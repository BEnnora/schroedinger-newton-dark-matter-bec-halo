{
 "cells": [
  {
   "cell_type": "markdown",
   "id": "d651bb39",
   "metadata": {},
   "source": [
    "# Numerical Solution of the Schrödinger–Newton Equation for a Bose–Einstein Condensate (BEC) Halo Using the Thomas Algorithm"
   ]
  },
  {
   "cell_type": "markdown",
   "id": "0690f894",
   "metadata": {},
   "source": [
    "The numerical method employed is based on the theoretical framework developed by Peter Jay Salzman in his dissertation *Investigation of the Time Dependent Schrödinger-Newton Equation* (University of California, 2005). [Available here](http://www.dirac.org/physics/dissertation/dissertation.pdf). It has been adapted to a specific potential, as described in the following sections."
   ]
  },
  {
   "cell_type": "code",
   "execution_count": 1,
   "id": "2348a58b",
   "metadata": {},
   "outputs": [],
   "source": [
    "import math\n",
    "import numpy as np"
   ]
  },
  {
   "cell_type": "markdown",
   "id": "5d0bfc84",
   "metadata": {},
   "source": [
    "### (Model specific) constants"
   ]
  },
  {
   "cell_type": "markdown",
   "id": "ae27b1d4",
   "metadata": {},
   "source": [
    "This section introduces both fundamental and model-specific constants required for the numerical computations. The natural constants include the gravitational constant and the reduced Planck constant. Additionally, parameters defining the dark matter halo - its radius, total mass, and average density - are specified. These values are placeholders and should be updated when applying the method to a physically accurate dark matter model."
   ]
  },
  {
   "cell_type": "code",
   "execution_count": 2,
   "id": "ae6c6e95",
   "metadata": {},
   "outputs": [],
   "source": [
    "# natural constants\n",
    "\n",
    "G = 6.67430*10**(-11) # Gravitational constant [m^3 kg^-1 s^-2]\n",
    "h = 1.054571817*10**(-34) # reduced planck constant [J s]"
   ]
  },
  {
   "cell_type": "code",
   "execution_count": 3,
   "id": "54f1151e",
   "metadata": {},
   "outputs": [],
   "source": [
    "# constants that can (and - for a serious dark matter model - should) be adapted; \n",
    "    # as an example, values are proposed that are based on an estimate of the mass and size of the Milky Way\n",
    "\n",
    "a = 20*3.0857*10**19 # radius of the Dark Matter Halo (FWHM-full width half maximum) [m]\n",
    "M = 1.37*10**11*1.98847*10**30 # total mass Dark Matter Halo [kg]\n",
    "rho = M/((4/3)*math.pi*a**3) # average density [kg m^-3]; density = mass/volume"
   ]
  },
  {
   "cell_type": "markdown",
   "id": "08e1c130",
   "metadata": {},
   "source": [
    "For analytical simplicity, we model the dark matter halo as a homogeneous fluid, which permits the use of a uniform density profile. Under the assumption of a spherically symmetric mass distribution, the resulting gravitational potential takes the form: $$\n",
    "\\Phi(r) = \\frac{1}{2} \\Omega^2 r^2 + \\text{const.}\n",
    "$$\n",
    "This form follows the approach presented by Wagner (2020) in Cosmic Structures from a Mathematical Perspective 1: Dark Matter Halo Mass Density Profiles. See: https://doi.org/10.1007/s10714-020-02715-w"
   ]
  },
  {
   "cell_type": "code",
   "execution_count": 4,
   "id": "5f329e09",
   "metadata": {},
   "outputs": [],
   "source": [
    "om_sq = (4*math.pi*G*rho/3) # harmonic oscillator frequency squared (of this model: Wagner)"
   ]
  },
  {
   "cell_type": "markdown",
   "id": "acc82ce3",
   "metadata": {},
   "source": [
    "### Preparations for numerical calculations"
   ]
  },
  {
   "cell_type": "markdown",
   "id": "54fe7d65",
   "metadata": {},
   "source": [
    "In the following, we define: (1) the spatial and temporal step sizes used in the numerical calculation, (2) three constants introduced to simplify the implementation, and (3) the number of steps taken in both space and time."
   ]
  },
  {
   "cell_type": "markdown",
   "id": "6beac658",
   "metadata": {},
   "source": [
    "The radius r_99, which denotes the region within which 99% of the wave function's total probability density is contained, can only be determined accurately if the spatial resolution $dr$ and/or the number of grid points $N$ are sufficiently large. In this implementation, $dr$ is deliberately set to a large value for computational practicality."
   ]
  },
  {
   "cell_type": "code",
   "execution_count": 5,
   "id": "6ecd80d4",
   "metadata": {},
   "outputs": [],
   "source": [
    "# temporal and spatial steps; can be modified\n",
    "# dr must be chosen small enough that the probability density of the wave function, integrated over space, always yields approximately 1\n",
    "\n",
    "dr = 100000000000000000000 # spatial grid size [m] (chosen large enough such that r_99 can be computed)\n",
    "dt = 2 # temporal grid size [s]"
   ]
  },
  {
   "cell_type": "code",
   "execution_count": 6,
   "id": "990e75f7",
   "metadata": {},
   "outputs": [],
   "source": [
    "# constants used in the numerical solution of the Schrödinger–Newton equation;\n",
    "# they appear in the triagonal Matrix\n",
    "\n",
    "R = dt/dr**2 # constant\n",
    "K = h/(8*M)*1j # constant\n",
    "P = dt/(2*h)*1j # constant"
   ]
  },
  {
   "cell_type": "code",
   "execution_count": 7,
   "id": "0efb1ea4",
   "metadata": {},
   "outputs": [],
   "source": [
    "# number of temporal and spatial steps; can be modified\n",
    "\n",
    "N = 300 # number of spatial grid steps\n",
    "n = 2 # number of temporal grid steps"
   ]
  },
  {
   "cell_type": "markdown",
   "id": "d728cfa0",
   "metadata": {},
   "source": [
    "$N$ and $dr$ must be chosen such that the final calculated  $$ \\psi_n^{N-1}$$ is zero. Otherwise the model does not describe the entire DM halo."
   ]
  },
  {
   "cell_type": "markdown",
   "id": "325ac4a3",
   "metadata": {},
   "source": [
    "### Numerical calculations"
   ]
  },
  {
   "cell_type": "markdown",
   "id": "66d613b9",
   "metadata": {},
   "source": [
    "1. **Wave function at** $t=0$: In the following, the wave function at time $t = 0$ is loaded into $N\\times 1$ vector, $\\psi^0_j$, at $N$ distinct spatial grid points. psi\\_n\\_J is a list in which all **wave function vectors** $\\psi^n_j$ for each time step will be saved.\\\n",
    "A spherically symmetric wave function with half-width $a$ is applied at $t=0$, following the paper of Giulini, D., and Großardt, A. Gravitationally induced inhibitions of dispersion according to a modified Schrödinger–Newton equation for a homogeneous-sphere potential. Classical and Quantum Gravity 30, 15 (Jul 2013), 155018. See https://iopscience.iop.org/article/10.1088/0264-9381/30/15/155018/meta."
   ]
  },
  {
   "cell_type": "code",
   "execution_count": 8,
   "id": "96eae910",
   "metadata": {},
   "outputs": [
    {
     "name": "stdout",
     "output_type": "stream",
     "text": [
      "0.0\n"
     ]
    }
   ],
   "source": [
    "# 1 preparing psi_n_J and adding the wave vector at t=0 to the list for each spacial step\n",
    "\n",
    "psi_n_J = [[]] # initial list for wave vectors at timesteps 0...n\n",
    "\n",
    "for J in range(0, N): # for J = 0, ..., N-1 (not j, since j could be confused with the imaginary number i)\n",
    "    psi_n_J[0].append((math.pi*a**2)**(-3/4)*math.exp(-(J*dr)**2/(2*a**2)))\n",
    "\n",
    "print(psi_n_J[0][-1])"
   ]
  },
  {
   "cell_type": "markdown",
   "id": "1eb219cf",
   "metadata": {},
   "source": [
    "The code below implements steps 2 through 5 of the numerical procedure:"
   ]
  },
  {
   "cell_type": "markdown",
   "id": "49ce1b83",
   "metadata": {},
   "source": [
    "2. **Potential energy at $t=0$**: In the following code, the **potential energy** values $V^n_j$ at each spacial step are calculated for $t=0$. The potential energy, written in pseudo-numerical code, reads $$V_{gj}^n=2\\pi\\Omega^2\\Bigg[(j\\Delta r)^2\\displaystyle\\sum_{i=0}^\\infty i^2(\\Delta r)^3|\\psi_i^n|^2+\\displaystyle\\sum_{i=0}^\\infty i^4 (\\Delta r)^5|\\psi_i^n|^2\\Bigg]\\ \\ \\ \\text{.}$$<br><br>\n",
    "\n",
    "3. **Construction of the tri-diagonal matrix**: The tri-diagonal matrix $$\n",
    "\\begin{bmatrix}\n",
    "b_0 & c_0 & 0 & 0 & & & & & ... & \\\\\n",
    "a_1 & b_1 & c_1 & 0 & & & & & ... & \\\\\n",
    "0 & a_2 & b_2 & c_2 & & & & & ... & \\\\\n",
    "& & & & . & & & & & \\\\\n",
    "& & & & & . & & & & \\\\\n",
    "& & & & & & . & & & \\\\\n",
    "& & ... & & & & & a_{N-2} & b_{N-2} & c_{N-2} \\\\\n",
    "& & ... & & & & & 0 & a_{N-1} & b_{N-1} \n",
    "\\end{bmatrix}\n",
    "\\begin{bmatrix}\n",
    "\\Upsilon^n_1\\\\\n",
    "\\Upsilon^n_2\\\\\n",
    "\\Upsilon^n_3\\\\\n",
    ". \\\\\n",
    ". \\\\\n",
    ". \\\\\n",
    "\\Upsilon^n_{N-1}\\\\\n",
    "\\Upsilon^n_N\n",
    "\\end{bmatrix}\n",
    "=\n",
    "\\begin{bmatrix}\n",
    "\\psi^n_1\\\\\n",
    "\\psi^n_2\\\\\n",
    "\\psi^n_3\\\\\n",
    ". \\\\\n",
    ". \\\\\n",
    ". \\\\\n",
    "\\psi^n_{N-1}\\\\\n",
    "\\psi^n_N\n",
    "\\end{bmatrix}\n",
    "$$ which is solved in step 4 using the Thomas algorithm. The coefficients $a_j$, $b_j$ and $c_j$ are loaded into lists A_J, B_J and C_J according to the conditions and formulas outlined in the Bachelor's thesis.<br><br>\n",
    "\n",
    "4. **Solving the system of equations using the Thomas algorithm**: As detailed in the Bachelor's thesis, additional definitions of factors $B_i$ and $D_i$ are required, which depend on $a_i$, $b_i$, $c_i$, and $\\psi_i^n$. The values $\\Upsilon^n_i$ are then computed recursively based on these factors. The resulting values are stored in the lists B, D, and X, respectively. <br><br>\n",
    "\n",
    "5. **Calculating the wave function for each time and spacial step**: Finally, new wave function at time-step $1$ is determined using $\\psi^1_j = \\Upsilon^0_j - \\psi^0_j$ in each case."
   ]
  },
  {
   "cell_type": "code",
   "execution_count": 9,
   "id": "246b872c",
   "metadata": {},
   "outputs": [],
   "source": [
    "# 2. calculating V_0_J from psi_0_J\n",
    "\n",
    "for t in range(0, n): # going through all temporal steps\n",
    "    V_n_J = [] # initial empty list for each gravitational energy vector \n",
    "\n",
    "    for J in range(0, N): # going through all spatial steps\n",
    "        sum_1 = 0\n",
    "        sum_2 = 0\n",
    "        i = 0\n",
    "        while i < N: # loop to get the sums within the potential\n",
    "            sum_1 += i**2*dr**3*abs(psi_n_J[t][i])**2  \n",
    "            sum_2 += i**4*dr**5*abs(psi_n_J[t][i])**2\n",
    "            i += 1    \n",
    "        V_n_J.append(2*math.pi*om_sq*((J*dr)**2)*sum_1-sum_2) # append the for each spatial step the potential energy value\n",
    "        \n",
    "\n",
    "# 3. forming the triagonal matrix\n",
    "    \n",
    "    A_J = [] # initial list for a_J (used in Thomas Algorithm)\n",
    "    B_J = [] # initial list for b_J (used in Thomas Algorithm)\n",
    "    C_J = [] # initial list for c_J (used in Thomas Algorithm)\n",
    "\n",
    "    for J in range(0, N):\n",
    "            \n",
    "        if J == 0:\n",
    "            b_0 = 0.5*(1+P*V_n_J[t]+12*K*R) # entry\n",
    "            c_0 = -6*K*R # entry\n",
    "            A_J.append(0)\n",
    "            B_J.append(b_0)\n",
    "            C_J.append(c_0)\n",
    "\n",
    "        elif J == N-1:\n",
    "            a_J = -K*R*((N-2)/(N-1)) # entry\n",
    "            b_J = 0.5*(1+P*V_n_J[t]) # entry\n",
    "            A_J.append(a_J)\n",
    "            B_J.append(b_J)\n",
    "            C_J.append(0)\n",
    "\n",
    "        else:\n",
    "            a_J = -K*R*(J-1)/J # entry\n",
    "            b_J = 0.5*(1+P*V_n_J[t]+2*K*R) # entry\n",
    "            c_J = -K*R*(J+1)/J # entry\n",
    "            A_J.append(a_J)\n",
    "            B_J.append(b_J)\n",
    "            C_J.append(c_J)\n",
    "\n",
    "    del(V_n_J) # Vpot for the timestep 0 deleted because it is not needed anymore\n",
    "    \n",
    "\n",
    "# 4. solving the triagonal system using the Thomas Algorithm\n",
    "\n",
    "    a_0 = 0 # convention\n",
    "    c_Nminus1 = 0 # convention\n",
    "\n",
    "    X = [] # initial list for the chi^0_J vector (the order of the entries will be reversed later)\n",
    "    B = [] # initial list for b_i coefficients\n",
    "    D = [] # initial list for d_i coefficients\n",
    "\n",
    "    for i in range(0, N):\n",
    "        if i == 0: # first entry in the help lists\n",
    "            B.append(B_J[i])\n",
    "            D.append(psi_n_J[t][i])\n",
    "        else: #  \n",
    "            B.append(B_J[i]-A_J[i]*C_J[i-1]/B[i-1])\n",
    "            D.append(psi_n_J[t][i]-A_J[i]*D[i-1]/B[i-1])\n",
    "\n",
    "    for i in range(0, N):\n",
    "        if i == 0:\n",
    "            X.append(D[N-1-i]/B[N-1-i])\n",
    "        else:\n",
    "            X.append((D[N-1-i]-C_J[N-1-i]*X[i-1])/B[N-1-i]) \n",
    "\n",
    "    X.reverse()\n",
    "\n",
    "    del(A_J, B_J, C_J, B, D)\n",
    "\n",
    "\n",
    "# 5. obtaining new wavefunction 5\n",
    "\n",
    "    psi_n_J.append(list(np.array(X)-np.array(psi_n_J[t]))) # new wavefunction psi^1_J vector\n",
    "        \n",
    "    del(X)\n"
   ]
  },
  {
   "cell_type": "code",
   "execution_count": 10,
   "id": "2d436abd",
   "metadata": {},
   "outputs": [
    {
     "data": {
      "text/plain": [
       "(3, 300)"
      ]
     },
     "execution_count": 10,
     "metadata": {},
     "output_type": "execute_result"
    }
   ],
   "source": [
    "np.array(psi_n_J).shape"
   ]
  },
  {
   "cell_type": "markdown",
   "id": "d01e77e5",
   "metadata": {},
   "source": [
    "### Calculation of  r_99 \n",
    "\n",
    "We compute the radius r_99, defined as the radius within which 99% of the total probability density of the wave function is enclosed:\n",
    "\n",
    "$$\n",
    "4\\pi \\, \\int_0^{r_{99}} |\\psi(r)|^2 \\, r^2 dr = 0.99\n",
    "$$\n",
    "\n",
    "In the context of a Bose–Einstein condensate dark matter halo described by a single wave function, this radius represents the effective size of the halo — the region containing 99% of the total mass. For comparison, the Milky Way's dark matter halo is estimated to have a radius of about 300,000 light-years, i.e. $2.84×10^{21}$ meters."
   ]
  },
  {
   "cell_type": "code",
   "execution_count": 11,
   "id": "9097ea34",
   "metadata": {},
   "outputs": [
    {
     "name": "stdout",
     "output_type": "stream",
     "text": [
      "Sum of all summands: 0.995%\n",
      "r99 at time step 0: 158545.61 light-years\n"
     ]
    }
   ],
   "source": [
    "r_99 = [] # preparation of the list in which r99 for all timesteps will be saved\n",
    "l = 0 # preparation of the running index, l = 0 ... n-1 or until s > 0.99\n",
    "\n",
    "while l <= n: \n",
    "    \n",
    "    i=0\n",
    "    s=0\n",
    "    \n",
    "    for k in psi_n_J[l]:\n",
    "        \n",
    "        # calculating the integral that defines r99\n",
    "        \n",
    "        s += 4*math.pi*((i)*dr)**2*abs(k)**2*dr # current the sum of all s plus the next\n",
    "        \n",
    "        if s > 0.9900000000000: # sum of all summands contributing to s must stay <= 0.99\n",
    "            r_99.append((i)*dr) # (i)*dr ist the current radius at which this condition is satisfied\n",
    "            l += 1 # only move to the next l when we've found r_99 for this one\n",
    "            break\n",
    "            \n",
    "        else:\n",
    "            i += 1 # new radius is old radius + dr; i.e. i*dr = (i-1)*dr + dr\n",
    "            continue\n",
    "            \n",
    "    else:\n",
    "        # this else belongs to the for-loop and triggers if no break occurred\n",
    "        # in that case, we still want to increment l to avoid infinite loop\n",
    "        l += 1\n",
    "\n",
    "ly0 = r_99[0] / 9.461e15 # calculate the radius r99 in lightyears\n",
    "\n",
    "print(f\"Sum of all summands: {s:.3f}%\") \n",
    "print(f\"r99 at time step 0: {ly0:.2f} light-years\")"
   ]
  },
  {
   "cell_type": "markdown",
   "id": "d7f9f721",
   "metadata": {},
   "source": [
    "If we compare this number to the estimated radius of the Milky Way's dark matter halo, we see that it is about half the size for a dark matter halo. This is a realistic estimate."
   ]
  },
  {
   "cell_type": "markdown",
   "id": "9e26866c",
   "metadata": {},
   "source": [
    "### Further possible analysis"
   ]
  },
  {
   "cell_type": "markdown",
   "id": "de5b79b8",
   "metadata": {},
   "source": [
    "With greater computational capacity, investigating the time evolution of r_99 could offer deeper insight. At present, r_99 remains unchanged throughout the simulation, likely due to the coarse spatial resolution introduced by the large value of $dr$."
   ]
  },
  {
   "cell_type": "code",
   "execution_count": 12,
   "id": "e001a867",
   "metadata": {},
   "outputs": [
    {
     "data": {
      "text/plain": [
       "[1500000000000000000000, 1500000000000000000000, 1500000000000000000000]"
      ]
     },
     "execution_count": 12,
     "metadata": {},
     "output_type": "execute_result"
    }
   ],
   "source": [
    "# short impression about r_99\n",
    "\n",
    "r_99"
   ]
  }
 ],
 "metadata": {
  "kernelspec": {
   "display_name": "Python 3 (ipykernel)",
   "language": "python",
   "name": "python3"
  },
  "language_info": {
   "codemirror_mode": {
    "name": "ipython",
    "version": 3
   },
   "file_extension": ".py",
   "mimetype": "text/x-python",
   "name": "python",
   "nbconvert_exporter": "python",
   "pygments_lexer": "ipython3",
   "version": "3.11.5"
  }
 },
 "nbformat": 4,
 "nbformat_minor": 5
}
